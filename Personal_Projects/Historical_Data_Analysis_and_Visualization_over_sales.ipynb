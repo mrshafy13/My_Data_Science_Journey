{
 "cells": [
  {
   "cell_type": "markdown",
   "metadata": {},
   "source": [
    "# Personal Project 1 #\n",
    "I am going to use a dataset from keggle to analyze historical Data.\n",
    "I'll try to find the variable which plays the most impact on Price. Here given dataset is US based, And it has some categorical values. We will handle them step by step."
   ]
  },
  {
   "cell_type": "code",
   "execution_count": 1,
   "metadata": {},
   "outputs": [],
   "source": [
    "import pandas as pd \n",
    "import numpy as np\n",
    "import matplotlib.pyplot as plt\n",
    "import folium\n",
    "import seaborn as sns"
   ]
  },
  {
   "cell_type": "markdown",
   "metadata": {},
   "source": [
    "### Load Data set to DataFrame\n",
    "Let's load the data set to a DataFrame using pandas pd.read_csv() function. We can load dataset from it's URL but here I have downloaded the dataset to my local storage."
   ]
  },
  {
   "cell_type": "code",
   "execution_count": 2,
   "metadata": {},
   "outputs": [
    {
     "data": {
      "text/html": [
       "<div>\n",
       "<style scoped>\n",
       "    .dataframe tbody tr th:only-of-type {\n",
       "        vertical-align: middle;\n",
       "    }\n",
       "\n",
       "    .dataframe tbody tr th {\n",
       "        vertical-align: top;\n",
       "    }\n",
       "\n",
       "    .dataframe thead th {\n",
       "        text-align: right;\n",
       "    }\n",
       "</style>\n",
       "<table border=\"1\" class=\"dataframe\">\n",
       "  <thead>\n",
       "    <tr style=\"text-align: right;\">\n",
       "      <th></th>\n",
       "      <th>Sale_ID</th>\n",
       "      <th>Date</th>\n",
       "      <th>Customer_ID</th>\n",
       "      <th>Bike_Model</th>\n",
       "      <th>Price</th>\n",
       "      <th>Quantity</th>\n",
       "      <th>Store_Location</th>\n",
       "      <th>Salesperson_ID</th>\n",
       "      <th>Payment_Method</th>\n",
       "      <th>Customer_Age</th>\n",
       "      <th>Customer_Gender</th>\n",
       "    </tr>\n",
       "  </thead>\n",
       "  <tbody>\n",
       "    <tr>\n",
       "      <th>0</th>\n",
       "      <td>1</td>\n",
       "      <td>11-07-2022</td>\n",
       "      <td>9390</td>\n",
       "      <td>Cruiser</td>\n",
       "      <td>318.32</td>\n",
       "      <td>1</td>\n",
       "      <td>Philadelphia</td>\n",
       "      <td>589</td>\n",
       "      <td>Apple Pay</td>\n",
       "      <td>70</td>\n",
       "      <td>Female</td>\n",
       "    </tr>\n",
       "    <tr>\n",
       "      <th>1</th>\n",
       "      <td>2</td>\n",
       "      <td>03-05-2024</td>\n",
       "      <td>3374</td>\n",
       "      <td>Hybrid Bike</td>\n",
       "      <td>3093.47</td>\n",
       "      <td>4</td>\n",
       "      <td>Chicago</td>\n",
       "      <td>390</td>\n",
       "      <td>Apple Pay</td>\n",
       "      <td>37</td>\n",
       "      <td>Male</td>\n",
       "    </tr>\n",
       "    <tr>\n",
       "      <th>2</th>\n",
       "      <td>3</td>\n",
       "      <td>01-09-2022</td>\n",
       "      <td>2689</td>\n",
       "      <td>Folding Bike</td>\n",
       "      <td>4247.99</td>\n",
       "      <td>3</td>\n",
       "      <td>San Antonio</td>\n",
       "      <td>338</td>\n",
       "      <td>PayPal</td>\n",
       "      <td>59</td>\n",
       "      <td>Female</td>\n",
       "    </tr>\n",
       "    <tr>\n",
       "      <th>3</th>\n",
       "      <td>4</td>\n",
       "      <td>28-09-2022</td>\n",
       "      <td>3797</td>\n",
       "      <td>Mountain Bike</td>\n",
       "      <td>1722.01</td>\n",
       "      <td>3</td>\n",
       "      <td>San Antonio</td>\n",
       "      <td>352</td>\n",
       "      <td>Apple Pay</td>\n",
       "      <td>19</td>\n",
       "      <td>Male</td>\n",
       "    </tr>\n",
       "    <tr>\n",
       "      <th>4</th>\n",
       "      <td>5</td>\n",
       "      <td>05-01-2021</td>\n",
       "      <td>1633</td>\n",
       "      <td>BMX</td>\n",
       "      <td>3941.44</td>\n",
       "      <td>3</td>\n",
       "      <td>Philadelphia</td>\n",
       "      <td>580</td>\n",
       "      <td>PayPal</td>\n",
       "      <td>67</td>\n",
       "      <td>Female</td>\n",
       "    </tr>\n",
       "  </tbody>\n",
       "</table>\n",
       "</div>"
      ],
      "text/plain": [
       "   Sale_ID        Date  Customer_ID     Bike_Model    Price  Quantity  \\\n",
       "0        1  11-07-2022         9390        Cruiser   318.32         1   \n",
       "1        2  03-05-2024         3374    Hybrid Bike  3093.47         4   \n",
       "2        3  01-09-2022         2689   Folding Bike  4247.99         3   \n",
       "3        4  28-09-2022         3797  Mountain Bike  1722.01         3   \n",
       "4        5  05-01-2021         1633            BMX  3941.44         3   \n",
       "\n",
       "  Store_Location  Salesperson_ID Payment_Method  Customer_Age Customer_Gender  \n",
       "0   Philadelphia             589      Apple Pay            70          Female  \n",
       "1        Chicago             390      Apple Pay            37            Male  \n",
       "2    San Antonio             338         PayPal            59          Female  \n",
       "3    San Antonio             352      Apple Pay            19            Male  \n",
       "4   Philadelphia             580         PayPal            67          Female  "
      ]
     },
     "execution_count": 2,
     "metadata": {},
     "output_type": "execute_result"
    }
   ],
   "source": [
    "df = pd.read_csv(\"bike_sales_100k.csv\")\n",
    "\n",
    "df.head()"
   ]
  },
  {
   "cell_type": "markdown",
   "metadata": {},
   "source": [
    "Let's see if there's any missing values so that we can handle them."
   ]
  },
  {
   "cell_type": "code",
   "execution_count": 3,
   "metadata": {},
   "outputs": [
    {
     "name": "stdout",
     "output_type": "stream",
     "text": [
      "<class 'pandas.core.frame.DataFrame'>\n",
      "RangeIndex: 100000 entries, 0 to 99999\n",
      "Data columns (total 11 columns):\n",
      " #   Column           Non-Null Count   Dtype  \n",
      "---  ------           --------------   -----  \n",
      " 0   Sale_ID          100000 non-null  int64  \n",
      " 1   Date             100000 non-null  object \n",
      " 2   Customer_ID      100000 non-null  int64  \n",
      " 3   Bike_Model       100000 non-null  object \n",
      " 4   Price            100000 non-null  float64\n",
      " 5   Quantity         100000 non-null  int64  \n",
      " 6   Store_Location   100000 non-null  object \n",
      " 7   Salesperson_ID   100000 non-null  int64  \n",
      " 8   Payment_Method   100000 non-null  object \n",
      " 9   Customer_Age     100000 non-null  int64  \n",
      " 10  Customer_Gender  100000 non-null  object \n",
      "dtypes: float64(1), int64(5), object(5)\n",
      "memory usage: 8.4+ MB\n"
     ]
    }
   ],
   "source": [
    "df.info()"
   ]
  }
 ],
 "metadata": {
  "kernelspec": {
   "display_name": "base",
   "language": "python",
   "name": "python3"
  },
  "language_info": {
   "codemirror_mode": {
    "name": "ipython",
    "version": 3
   },
   "file_extension": ".py",
   "mimetype": "text/x-python",
   "name": "python",
   "nbconvert_exporter": "python",
   "pygments_lexer": "ipython3",
   "version": "3.12.3"
  }
 },
 "nbformat": 4,
 "nbformat_minor": 2
}
